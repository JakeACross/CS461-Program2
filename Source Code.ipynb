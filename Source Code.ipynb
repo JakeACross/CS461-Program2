{
 "cells": [
  {
   "cell_type": "code",
   "execution_count": 352,
   "id": "dc98ca66",
   "metadata": {},
   "outputs": [],
   "source": [
    "from math import exp\n",
    "import numpy as np\n",
    "import matplotlib.pyplot as plt\n",
    "from random import random"
   ]
  },
  {
   "cell_type": "code",
   "execution_count": 353,
   "id": "c2fa67cc",
   "metadata": {},
   "outputs": [],
   "source": [
    "def calc_prob(current, best, temp):\n",
    "    current = 1000 - current\n",
    "    best = 1000 - best\n",
    "    if temp < 1:\n",
    "        return 0\n",
    "    elif current > best:\n",
    "        return exp((-1)*(current - best) / temp)\n",
    "    else:\n",
    "        return 1"
   ]
  },
  {
   "cell_type": "code",
   "execution_count": 354,
   "id": "3e897fd4",
   "metadata": {},
   "outputs": [],
   "source": [
    "infile = open('Program2Input.txt', 'r')\n",
    "line = infile.readline()\n",
    "items = []\n",
    "numOfPack = 25\n",
    "t = 20000\n",
    "constant = 0.99\n",
    "changes = 4000\n",
    "trials = 40000\n",
    "best = 0, 0"
   ]
  },
  {
   "cell_type": "code",
   "execution_count": 355,
   "id": "e2b7d6b5",
   "metadata": {},
   "outputs": [],
   "source": [
    "while line != \"\":\n",
    "    item = line.split()\n",
    "    item[0] = float(item[0])\n",
    "    item[1] = float(item[1])\n",
    "    items.append(item)\n",
    "    \n",
    "    line = infile.readline()\n",
    "infile.close()"
   ]
  },
  {
   "cell_type": "code",
   "execution_count": 356,
   "id": "19a97fd5",
   "metadata": {},
   "outputs": [
    {
     "data": {
      "text/plain": [
       "array([ 5.034  , 10.81125])"
      ]
     },
     "execution_count": 356,
     "metadata": {},
     "output_type": "execute_result"
    }
   ],
   "source": [
    "m = np.mean(items, axis= 0)\n",
    "m"
   ]
  },
  {
   "cell_type": "code",
   "execution_count": 357,
   "id": "19c47648",
   "metadata": {},
   "outputs": [],
   "source": [
    "# print(items) "
   ]
  },
  {
   "cell_type": "code",
   "execution_count": 358,
   "id": "8e73cde0",
   "metadata": {},
   "outputs": [],
   "source": [
    "while changes != 0 and trials != 0:\n",
    "    random_select = np.random.choice(400, numOfPack, replace=False)\n",
    "    selected = [items[i] for i in random_select]\n",
    "    total_util = np.sum(selected, axis=0)[0]\n",
    "    total_weight = np.sum(selected, axis=0)[1]\n",
    "    if total_weight > 500:\n",
    "        total_util -= 20\n",
    "    if random() < calc_prob(total_util, best[0], t):\n",
    "        best = total_util, total_weight\n",
    "        changes -= 1\n",
    "    trials -= 1\n",
    "    t *= constant"
   ]
  },
  {
   "cell_type": "code",
   "execution_count": 359,
   "id": "286068fd",
   "metadata": {},
   "outputs": [
    {
     "name": "stdout",
     "output_type": "stream",
     "text": [
      "The best utilities of 25 items are 163.6 with 278.1 pounds\n",
      "The number of changes is 707 and trials is 40000\n"
     ]
    }
   ],
   "source": [
    "print(f\"The best utilities of {numOfPack} items are {round(best[0], 1)} with {round(best[1], 1)} pounds\")\n",
    "print(f\"The number of changes is {4000-changes} and trials is {40000-trials}\")"
   ]
  }
 ],
 "metadata": {
  "kernelspec": {
   "display_name": "cs490_python_projects",
   "language": "python",
   "name": "cs490_python_projects"
  },
  "language_info": {
   "codemirror_mode": {
    "name": "ipython",
    "version": 3
   },
   "file_extension": ".py",
   "mimetype": "text/x-python",
   "name": "python",
   "nbconvert_exporter": "python",
   "pygments_lexer": "ipython3",
   "version": "3.9.7"
  }
 },
 "nbformat": 4,
 "nbformat_minor": 5
}
