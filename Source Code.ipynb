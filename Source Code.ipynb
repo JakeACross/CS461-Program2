{
 "cells": [
  {
   "cell_type": "markdown",
   "id": "f5ada373",
   "metadata": {},
   "source": [
    "### Define a function to calculate the probability of changes"
   ]
  },
  {
   "cell_type": "code",
   "execution_count": 47,
   "id": "c2fa67cc",
   "metadata": {},
   "outputs": [],
   "source": [
    "from math import exp\n",
    "\n",
    "def calc_prob(current, better, temp):\n",
    "    current = 1000 - current\n",
    "    best = 1000 - better\n",
    "    if temp < 1:  # if the temperature is less than 1, we consider it is 0, so no changes occur\n",
    "        return 0\n",
    "    elif current > best:  # if the current state is worse, make the change with certain probability\n",
    "        return exp((-1)*(current - better) / temp)\n",
    "    else:  # make change \n",
    "        return 1"
   ]
  },
  {
   "cell_type": "markdown",
   "id": "302fa0c8",
   "metadata": {},
   "source": [
    "### Open the given file and initialize values"
   ]
  },
  {
   "cell_type": "code",
   "execution_count": 54,
   "id": "3e897fd4",
   "metadata": {},
   "outputs": [],
   "source": [
    "infile = open('Program2Input.txt', 'r')\n",
    "line = infile.readline()\n",
    "items = []\n",
    "numOfPack = 25  # the number of packed items\n",
    "\n",
    "t = 20000  # temperature\n",
    "\n",
    "constant = 0.99  # constant to decrease the temperature\n",
    "\n",
    "changes = 4000  # 10N\n",
    "trials = 40000  # 100N\n",
    "\n",
    "sol = 0, 0  # a tuple of the solution"
   ]
  },
  {
   "cell_type": "markdown",
   "id": "75cdda5f",
   "metadata": {},
   "source": [
    "### Read the file \n",
    "Iterating through each line of file and assign the data to the list 'items' which is 2d array.   \n",
    "The default values in the file is string, so if it is a number, it should be converted to int/float.   \n",
    "After it is done, close the file."
   ]
  },
  {
   "cell_type": "code",
   "execution_count": 55,
   "id": "e2b7d6b5",
   "metadata": {},
   "outputs": [],
   "source": [
    "while line != \"\":\n",
    "    item = line.split()  # remove the whitespace between strings in each line\n",
    "    item[0] = float(item[0])  # convert the string to float\n",
    "    item[1] = float(item[1])\n",
    "    items.append(item)\n",
    "    \n",
    "    line = infile.readline()  # go to the next line\n",
    "infile.close()  # close the file"
   ]
  },
  {
   "cell_type": "markdown",
   "id": "015f73b6",
   "metadata": {},
   "source": [
    "### Find the best number of packing item\n",
    "Import NumPy to use np.mean, np.sum and np.random.choice. np.mean and np.sum is very helpful for ndarray.   \n",
    "np.random.choice can generate list of random integers.   \n",
    "Devide 500 by mean weight so that we can assume the average number of packing items."
   ]
  },
  {
   "cell_type": "code",
   "execution_count": 56,
   "id": "19a97fd5",
   "metadata": {},
   "outputs": [
    {
     "name": "stdout",
     "output_type": "stream",
     "text": [
      "46\n"
     ]
    }
   ],
   "source": [
    "import numpy as np\n",
    "\n",
    "mean = np.mean(items, axis= 0)  # it returns the list [mean(items[][0]),  mean(items[][1])]\n",
    "numOfPack = int(500 / mean[1])\n",
    "print(numOfPack)"
   ]
  },
  {
   "cell_type": "code",
   "execution_count": 57,
   "id": "19c47648",
   "metadata": {},
   "outputs": [],
   "source": [
    "# print(items) "
   ]
  },
  {
   "cell_type": "markdown",
   "id": "b3efcefe",
   "metadata": {},
   "source": [
    "### Run simulated annealing\n",
    "Create the list of random integers range(0, 400) without duplication. Use the list for the random selection from items.   \n",
    "Get the sum of utilities and weights to find the better solution (utility)."
   ]
  },
  {
   "cell_type": "code",
   "execution_count": 58,
   "id": "8e73cde0",
   "metadata": {},
   "outputs": [],
   "source": [
    "from random import random\n",
    "\n",
    "while changes != 0 and trials != 0:  # iterate until it reaches 10N changes or 100N trials\n",
    "    \n",
    "    random_select = np.random.choice(400, numOfPack, replace=False)  # select 'numOfPack' integers from 0 to 399 (index)\n",
    "    \n",
    "    selected = [items[i] for i in random_select]  # pick the values have the index\n",
    "    \n",
    "    # np.sum returns the list [sum(items[][0]),  sum(items[][1])]\n",
    "    total_util = np.sum(selected, axis=0)[0]  # index 0 for utilities\n",
    "    total_weight = np.sum(selected, axis=0)[1]  # index 1 for weights\n",
    "    \n",
    "    # penalty of -20 utility for every pound over the weight limit.\n",
    "    if total_weight > 500:\n",
    "        total_util -= 20\n",
    "        \n",
    "    # random() returns float between 0 and 1. If it is less than certain probabilites, make a change\n",
    "    if random() < calc_prob(total_util, sol[0], t):\n",
    "        sol = total_util, total_weight\n",
    "        changes -= 1  # count a change\n",
    "    \n",
    "    trials -= 1  # count a trial\n",
    "    t *= constant  # decrease the temperature"
   ]
  },
  {
   "cell_type": "markdown",
   "id": "8ad866a6",
   "metadata": {},
   "source": [
    "### Print the result"
   ]
  },
  {
   "cell_type": "code",
   "execution_count": 59,
   "id": "286068fd",
   "metadata": {},
   "outputs": [
    {
     "name": "stdout",
     "output_type": "stream",
     "text": [
      "The better utilities of 46 items are 293.2 with 412.4 pounds\n",
      "The number of changes is 371 and trials is 40000\n"
     ]
    }
   ],
   "source": [
    "print(f\"The better utilities of {numOfPack} items are {round(sol[0], 1)} with {round(sol[1], 1)} pounds\")\n",
    "print(f\"The number of changes is {4000-changes} and trials is {40000-trials}\")"
   ]
  }
 ],
 "metadata": {
  "kernelspec": {
   "display_name": "cs490_python_projects",
   "language": "python",
   "name": "cs490_python_projects"
  },
  "language_info": {
   "codemirror_mode": {
    "name": "ipython",
    "version": 3
   },
   "file_extension": ".py",
   "mimetype": "text/x-python",
   "name": "python",
   "nbconvert_exporter": "python",
   "pygments_lexer": "ipython3",
   "version": "3.9.7"
  }
 },
 "nbformat": 4,
 "nbformat_minor": 5
}
