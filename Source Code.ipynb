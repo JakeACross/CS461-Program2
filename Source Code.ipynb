{
 "cells": [
  {
   "cell_type": "code",
   "execution_count": 59,
   "id": "7ea80555",
   "metadata": {},
   "outputs": [],
   "source": [
    "from math import exp\n",
    "import numpy as np"
   ]
  },
  {
   "cell_type": "code",
   "execution_count": 60,
   "id": "08998eb1",
   "metadata": {},
   "outputs": [],
   "source": [
    "def calc_prob(current, best, temp):\n",
    "    current = 1000 - current\n",
    "    if current > best:\n",
    "        return exp((-1)*(current - best) / temp)\n",
    "    else:\n",
    "        return 1\n"
   ]
  },
  {
   "cell_type": "code",
   "execution_count": 77,
   "id": "825ec91b",
   "metadata": {},
   "outputs": [],
   "source": [
    "infile = open('Program2Input.txt', 'r')\n",
    "line = infile.readline()\n",
    "items = []\n",
    "toggle = [0] * 400\n",
    "t = 20000\n",
    "constant = 0.9\n",
    "changes = 4000\n",
    "tirals = 40000"
   ]
  },
  {
   "cell_type": "code",
   "execution_count": 78,
   "id": "ccb59861",
   "metadata": {},
   "outputs": [],
   "source": [
    "while line != \"\":\n",
    "    item = line.split()\n",
    "    item[0] = float(item[0])\n",
    "    item[1] = float(item[1])\n",
    "    items.append(item)\n",
    "    \n",
    "    line = infile.readline()\n",
    "infile.close()"
   ]
  },
  {
   "cell_type": "code",
   "execution_count": 82,
   "id": "67a581b9",
   "metadata": {},
   "outputs": [],
   "source": [
    "# print(items) "
   ]
  },
  {
   "cell_type": "code",
   "execution_count": null,
   "id": "a4d6ff90",
   "metadata": {},
   "outputs": [],
   "source": [
    "# while changes != 0 or trials != 0:"
   ]
  },
  {
   "cell_type": "code",
   "execution_count": 110,
   "id": "d087d315",
   "metadata": {},
   "outputs": [
    {
     "name": "stdout",
     "output_type": "stream",
     "text": [
      "[[9.6, 19.3], [6.0, 17.3], [3.0, 4.6], [4.1, 13.2], [5.0, 6.5], [7.5, 17.4], [7.7, 5.4], [6.9, 16.2], [1.4, 16.0], [9.4, 7.6], [3.2, 1.1], [3.2, 19.5], [7.6, 18.7], [4.2, 18.0], [6.4, 11.7], [5.6, 7.4], [0.1, 7.7], [7.6, 20.2], [3.4, 0.9], [3.2, 19.0], [8.5, 8.0], [7.2, 6.2], [2.0, 11.9], [4.3, 0.8], [7.1, 16.1], [0.8, 8.3], [7.6, 12.1], [10.0, 7.3], [8.9, 19.3], [0.1, 13.3], [4.6, 13.8], [6.6, 18.9], [1.5, 16.9], [6.3, 1.0], [9.1, 7.2], [5.7, 6.4], [2.1, 12.8], [6.0, 9.1], [4.6, 14.7], [7.6, 15.2]]\n",
      "215.69999999999996 467.0\n"
     ]
    }
   ],
   "source": [
    "random_select = np.random.choice(400, 40, replace=False)\n",
    "selected = [items[i] for i in random_select]\n",
    "total_util = np.sum(selected, axis=0)[0]\n",
    "total_weight = np.sum(selected, axis=0)[1]\n",
    "print(selected)\n",
    "print(total_util, total_weight)"
   ]
  },
  {
   "cell_type": "code",
   "execution_count": null,
   "id": "d1c5b8e0",
   "metadata": {},
   "outputs": [],
   "source": []
  },
  {
   "cell_type": "code",
   "execution_count": null,
   "id": "aca3e5a9",
   "metadata": {},
   "outputs": [],
   "source": []
  }
 ],
 "metadata": {
  "kernelspec": {
   "display_name": "cs490_python_projects",
   "language": "python",
   "name": "cs490_python_projects"
  },
  "language_info": {
   "codemirror_mode": {
    "name": "ipython",
    "version": 3
   },
   "file_extension": ".py",
   "mimetype": "text/x-python",
   "name": "python",
   "nbconvert_exporter": "python",
   "pygments_lexer": "ipython3",
   "version": "3.9.7"
  }
 },
 "nbformat": 4,
 "nbformat_minor": 5
}
