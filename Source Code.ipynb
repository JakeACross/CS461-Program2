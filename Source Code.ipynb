{
 "cells": [
  {
   "cell_type": "code",
   "execution_count": 289,
   "id": "ab232902",
   "metadata": {},
   "outputs": [],
   "source": [
    "from math import exp\n",
    "import numpy as np\n",
    "from random import random"
   ]
  },
  {
   "cell_type": "code",
   "execution_count": 290,
   "id": "fb16ceee",
   "metadata": {},
   "outputs": [],
   "source": [
    "def calc_prob(current, best, temp):\n",
    "    if temp < 1:\n",
    "        return 0\n",
    "    elif current > best:\n",
    "        return exp((-1)*(current - best) / temp)\n",
    "    else:\n",
    "        return 1"
   ]
  },
  {
   "cell_type": "code",
   "execution_count": 291,
   "id": "4e36c135",
   "metadata": {},
   "outputs": [],
   "source": [
    "infile = open('Program2Input.txt', 'r')\n",
    "line = infile.readline()\n",
    "items = []\n",
    "t = 20000\n",
    "constant = 0.9\n",
    "changes = 4000\n",
    "trials = 40000\n",
    "best = 0, 0"
   ]
  },
  {
   "cell_type": "code",
   "execution_count": 292,
   "id": "9125eda7",
   "metadata": {},
   "outputs": [],
   "source": [
    "while line != \"\":\n",
    "    item = line.split()\n",
    "    item[0] = float(item[0])\n",
    "    item[1] = float(item[1])\n",
    "    items.append(item)\n",
    "    \n",
    "    line = infile.readline()\n",
    "infile.close()"
   ]
  },
  {
   "cell_type": "code",
   "execution_count": 293,
   "id": "238f0941",
   "metadata": {},
   "outputs": [],
   "source": [
    "# print(items) "
   ]
  },
  {
   "cell_type": "code",
   "execution_count": 294,
   "id": "e7479d44",
   "metadata": {},
   "outputs": [],
   "source": [
    "while changes != 0 and trials != 0:\n",
    "    random_select = np.random.choice(400, 25, replace=False)\n",
    "    selected = [items[i] for i in random_select]\n",
    "    total_util = np.sum(selected, axis=0)[0]\n",
    "    total_util = 1000 - total_util\n",
    "    total_weight = np.sum(selected, axis=0)[1]\n",
    "    if total_weight > 500:\n",
    "        total_util -= 20\n",
    "    if random() < calc_prob(total_util, best[0], t):\n",
    "        best = total_util, total_weight\n",
    "        changes -= 1\n",
    "    trials -= 1\n",
    "    t *= constant"
   ]
  },
  {
   "cell_type": "code",
   "execution_count": 295,
   "id": "4b0fffd6",
   "metadata": {},
   "outputs": [
    {
     "name": "stdout",
     "output_type": "stream",
     "text": [
      "(858.9, 277.90000000000003)\n",
      "[1, 1, 1, 1, 1, 1, 1, 1, 1, 1, 1, 1, 1, 1, 1, 1, 1, 1, 1, 1, 1, 1, 1, 1, 1, 1, 1, 1, 1, 1, 1, 1, 1, 1, 1, 1, 1, 1, 1, 1, 1, 1, 1, 1, 1, 1, 1, 1, 1, 1, 1, 1, 1, 1, 1, 1, 1, 1, 1, 1, 1, 1, 1, 1, 1, 1, 1, 1, 1, 1, 1, 1, 1, 1, 1, 1, 1, 1, 1, 1, 1, 1, 1, 1, 1, 1, 1, 1, 1, 1, 1, 1, 1, 1, 1, 1, 1, 1, 1, 1, 1, 1, 1, 1, 1, 1, 1, 1, 1, 1, 1, 1, 1, 1, 1, 1, 1, 1, 1, 1, 1, 1, 1, 1, 1, 1, 1, 1, 1, 1, 1, 1, 1, 1, 1, 1, 1, 1, 1, 1, 1, 1, 1, 1, 1, 1, 1, 1, 1, 1, 1, 1, 1, 1, 1, 1, 1, 1, 1, 1, 1, 1, 1, 1, 1, 1, 1, 1, 1, 1, 1, 1, 1, 1, 1, 1, 1, 1, 1, 1, 1, 1, 1, 1, 1, 1, 1, 1, 1, 1, 1, 1, 1, 1, 1, 1, 1, 1, 1, 1, 1, 1, 1, 1, 1, 1, 1, 1, 1, 1, 1, 1, 1, 1, 1, 1, 1, 1, 1, 1, 1, 1, 1, 1, 1, 1, 1, 1, 1, 1, 1, 1, 1, 1, 1, 1, 1, 1, 1, 1, 1, 1, 1, 1, 1, 1, 1, 1, 1, 1, 1, 1, 1, 1, 1, 1, 1, 1, 1, 1, 1, 1, 1, 1, 1, 1, 1, 1, 1, 1, 1, 1, 1, 1, 1, 1, 1, 1, 1, 1, 1, 1, 1, 1, 1, 1, 1, 1, 1, 1, 1, 1, 1, 1, 1, 1, 1, 1, 1, 1, 1, 1, 1, 1, 1, 1, 1, 1, 1, 1, 1, 1, 1, 1, 1, 1, 1, 1, 1, 1, 1, 1, 1, 1, 1, 1, 1, 1, 1, 1, 1, 1, 1, 1, 1, 1, 1, 1, 1, 1, 1, 1, 1, 1, 1, 1, 1, 1, 1, 1, 1, 1, 1, 1, 1, 1, 1, 1, 1, 1, 1, 1, 1, 1, 1, 1, 1, 1, 1, 1, 1, 1, 1, 1, 1, 1, 1, 1, 1, 1, 1, 1, 1, 1, 1, 1, 1, 1, 1, 1, 1, 1, 1, 1, 1, 1, 1, 1, 1, 1]\n"
     ]
    }
   ],
   "source": [
    "print(best)\n"
   ]
  },
  {
   "cell_type": "code",
   "execution_count": null,
   "id": "10cb7b2c",
   "metadata": {},
   "outputs": [],
   "source": []
  }
 ],
 "metadata": {
  "kernelspec": {
   "display_name": "cs490_python_projects",
   "language": "python",
   "name": "cs490_python_projects"
  },
  "language_info": {
   "codemirror_mode": {
    "name": "ipython",
    "version": 3
   },
   "file_extension": ".py",
   "mimetype": "text/x-python",
   "name": "python",
   "nbconvert_exporter": "python",
   "pygments_lexer": "ipython3",
   "version": "3.9.7"
  }
 },
 "nbformat": 4,
 "nbformat_minor": 5
}
