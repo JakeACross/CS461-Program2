{
 "cells": [
  {
   "cell_type": "code",
   "execution_count": 321,
   "id": "82f21569",
   "metadata": {},
   "outputs": [],
   "source": [
    "from math import exp\n",
    "import numpy as np\n",
    "from random import random"
   ]
  },
  {
   "cell_type": "code",
   "execution_count": 322,
   "id": "ded0d90e",
   "metadata": {},
   "outputs": [],
   "source": [
    "def calc_prob(current, best, temp):\n",
    "    current = 1000 - current\n",
    "    best = 1000 - best\n",
    "    if temp < 1:\n",
    "        return 0\n",
    "    elif current > best:\n",
    "        return exp((-1)*(current - best) / temp)\n",
    "    else:\n",
    "        return 1"
   ]
  },
  {
   "cell_type": "code",
   "execution_count": 323,
   "id": "d9ea576b",
   "metadata": {},
   "outputs": [],
   "source": [
    "infile = open('Program2Input.txt', 'r')\n",
    "line = infile.readline()\n",
    "items = []\n",
    "numOfPack = 25\n",
    "t = 20000\n",
    "constant = 0.9\n",
    "changes = 4000\n",
    "trials = 40000\n",
    "best = 0, 0"
   ]
  },
  {
   "cell_type": "code",
   "execution_count": 324,
   "id": "42b13b2f",
   "metadata": {},
   "outputs": [],
   "source": [
    "while line != \"\":\n",
    "    item = line.split()\n",
    "    item[0] = float(item[0])\n",
    "    item[1] = float(item[1])\n",
    "    items.append(item)\n",
    "    \n",
    "    line = infile.readline()\n",
    "infile.close()"
   ]
  },
  {
   "cell_type": "code",
   "execution_count": 325,
   "id": "8e0b4b05",
   "metadata": {},
   "outputs": [],
   "source": [
    "# print(items) "
   ]
  },
  {
   "cell_type": "code",
   "execution_count": 326,
   "id": "9faaceff",
   "metadata": {},
   "outputs": [],
   "source": [
    "while changes != 0 and trials != 0:\n",
    "    random_select = np.random.choice(400, numOfPack, replace=False)\n",
    "    selected = [items[i] for i in random_select]\n",
    "    total_util = np.sum(selected, axis=0)[0]\n",
    "    total_weight = np.sum(selected, axis=0)[1]\n",
    "    if total_weight > 500:\n",
    "        total_util -= 20\n",
    "    if random() < calc_prob(total_util, best[0], t):\n",
    "        best = total_util, total_weight\n",
    "        changes -= 1\n",
    "    trials -= 1\n",
    "    t *= constant"
   ]
  },
  {
   "cell_type": "code",
   "execution_count": 327,
   "id": "20ff04f7",
   "metadata": {},
   "outputs": [
    {
     "name": "stdout",
     "output_type": "stream",
     "text": [
      "The best utilities of 25 items are 157.8 with 259.4 pounds\n"
     ]
    }
   ],
   "source": [
    "print(f\"The best utilities of {numOfPack} items are {round(best[0], 1)} with {round(best[1], 1)} pounds\")"
   ]
  }
 ],
 "metadata": {
  "kernelspec": {
   "display_name": "cs490_python_projects",
   "language": "python",
   "name": "cs490_python_projects"
  },
  "language_info": {
   "codemirror_mode": {
    "name": "ipython",
    "version": 3
   },
   "file_extension": ".py",
   "mimetype": "text/x-python",
   "name": "python",
   "nbconvert_exporter": "python",
   "pygments_lexer": "ipython3",
   "version": "3.9.7"
  }
 },
 "nbformat": 4,
 "nbformat_minor": 5
}
