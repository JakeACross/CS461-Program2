{
 "cells": [
  {
   "cell_type": "code",
   "execution_count": 35,
   "id": "f7ed3406",
   "metadata": {},
   "outputs": [],
   "source": [
    "infile = open('Program2Input.txt', 'r')\n",
    "line = infile.readline()\n",
    "items = []"
   ]
  },
  {
   "cell_type": "code",
   "execution_count": 37,
   "id": "61ac3d96",
   "metadata": {},
   "outputs": [],
   "source": [
    "while line != \"\":\n",
    "    item = line.split()\n",
    "    item_tup = float(item[0]), float(item[1])\n",
    "    items.append(item_tup)\n",
    "    \n",
    "    line = infile.readline()"
   ]
  },
  {
   "cell_type": "code",
   "execution_count": 41,
   "id": "dca6bf3b",
   "metadata": {},
   "outputs": [],
   "source": [
    "# print(items)"
   ]
  },
  {
   "cell_type": "code",
   "execution_count": null,
   "id": "27ef1c72",
   "metadata": {},
   "outputs": [],
   "source": []
  },
  {
   "cell_type": "code",
   "execution_count": null,
   "id": "c91bbf4e",
   "metadata": {},
   "outputs": [],
   "source": []
  }
 ],
 "metadata": {
  "kernelspec": {
   "display_name": "cs490_python_projects",
   "language": "python",
   "name": "cs490_python_projects"
  },
  "language_info": {
   "codemirror_mode": {
    "name": "ipython",
    "version": 3
   },
   "file_extension": ".py",
   "mimetype": "text/x-python",
   "name": "python",
   "nbconvert_exporter": "python",
   "pygments_lexer": "ipython3",
   "version": "3.9.7"
  }
 },
 "nbformat": 4,
 "nbformat_minor": 5
}
